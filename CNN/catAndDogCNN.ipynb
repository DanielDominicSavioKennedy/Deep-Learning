{
 "cells": [
  {
   "cell_type": "code",
   "execution_count": 14,
   "metadata": {},
   "outputs": [],
   "source": [
    "import tensorflow as tf\n",
    "import numpy as np\n",
    "import pandas as pd\n",
    "from keras.preprocessing.image import ImageDataGenerator"
   ]
  },
  {
   "cell_type": "code",
   "execution_count": 16,
   "metadata": {},
   "outputs": [
    {
     "name": "stdout",
     "output_type": "stream",
     "text": [
      "Found 8000 images belonging to 2 classes.\n"
     ]
    }
   ],
   "source": [
    "train_datagen = ImageDataGenerator(rescale=1./255,shear_range=0.2,zoom_range=0.2,horizontal_flip=True)\n",
    "training_set=train_datagen.flow_from_directory(\"training_set\",target_size=(64,64),batch_size=32,class_mode=\"binary\")"
   ]
  },
  {
   "cell_type": "code",
   "execution_count": 17,
   "metadata": {},
   "outputs": [
    {
     "name": "stdout",
     "output_type": "stream",
     "text": [
      "Found 2000 images belonging to 2 classes.\n"
     ]
    }
   ],
   "source": [
    "test_datagen = ImageDataGenerator(rescale=1./255)\n",
    "test_set=test_datagen.flow_from_directory(\"test_set\",target_size=(64,64),batch_size=32,class_mode=\"binary\")"
   ]
  },
  {
   "cell_type": "code",
   "execution_count": 3,
   "metadata": {},
   "outputs": [],
   "source": [
    "cnn = tf.keras.models.Sequential()"
   ]
  },
  {
   "cell_type": "code",
   "execution_count": 6,
   "metadata": {},
   "outputs": [],
   "source": [
    "#convolation\n",
    "cnn.add(tf.keras.layers.Conv2D(filters=32,kernel_size=3,activation='relu',input_shape=[64,64,3]))"
   ]
  },
  {
   "cell_type": "code",
   "execution_count": 7,
   "metadata": {},
   "outputs": [],
   "source": [
    "#pooling\n",
    "cnn.add(tf.keras.layers.MaxPool2D(pool_size=2,strides=2))"
   ]
  },
  {
   "cell_type": "code",
   "execution_count": 8,
   "metadata": {},
   "outputs": [],
   "source": [
    "#2nd Convolutional layer\n",
    "cnn.add(tf.keras.layers.Conv2D(filters=32,kernel_size=3,activation='relu',input_shape=[64,64,3]))\n",
    "cnn.add(tf.keras.layers.MaxPool2D(pool_size=2,strides=2))"
   ]
  },
  {
   "cell_type": "code",
   "execution_count": 9,
   "metadata": {},
   "outputs": [],
   "source": [
    "#Flattening\n",
    "cnn.add(tf.keras.layers.Flatten())"
   ]
  },
  {
   "cell_type": "code",
   "execution_count": 10,
   "metadata": {},
   "outputs": [],
   "source": [
    "#full Connection\n",
    "cnn.add(tf.keras.layers.Dense(units=128,activation='relu'))"
   ]
  },
  {
   "cell_type": "code",
   "execution_count": 11,
   "metadata": {},
   "outputs": [],
   "source": [
    "#Output layer\n",
    "cnn.add(tf.keras.layers.Dense(units=1,activation='sigmoid'))"
   ]
  },
  {
   "cell_type": "code",
   "execution_count": 18,
   "metadata": {},
   "outputs": [],
   "source": [
    "#Compiling cnn\n",
    "cnn.compile(optimizer=\"adam\",loss='binary_crossentropy',metrics='accuracy')"
   ]
  },
  {
   "cell_type": "code",
   "execution_count": 19,
   "metadata": {},
   "outputs": [
    {
     "name": "stdout",
     "output_type": "stream",
     "text": [
      "Epoch 1/25\n",
      "250/250 [==============================] - 118s 456ms/step - loss: 0.6760 - accuracy: 0.5745 - val_loss: 0.6240 - val_accuracy: 0.6520\n",
      "Epoch 2/25\n",
      "250/250 [==============================] - 90s 362ms/step - loss: 0.6115 - accuracy: 0.6693 - val_loss: 0.5703 - val_accuracy: 0.7070\n",
      "Epoch 3/25\n",
      "250/250 [==============================] - 91s 364ms/step - loss: 0.5671 - accuracy: 0.7042 - val_loss: 0.5487 - val_accuracy: 0.7305\n",
      "Epoch 4/25\n",
      "250/250 [==============================] - 89s 354ms/step - loss: 0.5243 - accuracy: 0.7385 - val_loss: 0.5118 - val_accuracy: 0.7515\n",
      "Epoch 5/25\n",
      "250/250 [==============================] - 88s 351ms/step - loss: 0.4880 - accuracy: 0.7629 - val_loss: 0.5125 - val_accuracy: 0.7510\n",
      "Epoch 6/25\n",
      "250/250 [==============================] - 87s 350ms/step - loss: 0.4744 - accuracy: 0.7700 - val_loss: 0.4864 - val_accuracy: 0.7715\n",
      "Epoch 7/25\n",
      "250/250 [==============================] - 90s 360ms/step - loss: 0.4485 - accuracy: 0.7881 - val_loss: 0.4628 - val_accuracy: 0.7850\n",
      "Epoch 8/25\n",
      "250/250 [==============================] - 100s 401ms/step - loss: 0.4271 - accuracy: 0.8034 - val_loss: 0.4536 - val_accuracy: 0.7890\n",
      "Epoch 9/25\n",
      "250/250 [==============================] - 99s 396ms/step - loss: 0.4065 - accuracy: 0.8111 - val_loss: 0.4954 - val_accuracy: 0.7640\n",
      "Epoch 10/25\n",
      "250/250 [==============================] - 101s 403ms/step - loss: 0.3901 - accuracy: 0.8224 - val_loss: 0.4381 - val_accuracy: 0.7980\n",
      "Epoch 11/25\n",
      "250/250 [==============================] - 104s 415ms/step - loss: 0.3741 - accuracy: 0.8288 - val_loss: 0.5114 - val_accuracy: 0.7700\n",
      "Epoch 12/25\n",
      "250/250 [==============================] - 104s 416ms/step - loss: 0.3457 - accuracy: 0.8450 - val_loss: 0.4497 - val_accuracy: 0.7990\n",
      "Epoch 13/25\n",
      "250/250 [==============================] - 105s 418ms/step - loss: 0.3325 - accuracy: 0.8569 - val_loss: 0.4564 - val_accuracy: 0.8005\n",
      "Epoch 14/25\n",
      "250/250 [==============================] - 104s 415ms/step - loss: 0.3161 - accuracy: 0.8640 - val_loss: 0.5459 - val_accuracy: 0.7920\n",
      "Epoch 15/25\n",
      "250/250 [==============================] - 103s 412ms/step - loss: 0.2977 - accuracy: 0.8719 - val_loss: 0.4772 - val_accuracy: 0.8050\n",
      "Epoch 16/25\n",
      "250/250 [==============================] - 105s 419ms/step - loss: 0.2799 - accuracy: 0.8792 - val_loss: 0.4640 - val_accuracy: 0.8110\n",
      "Epoch 17/25\n",
      "250/250 [==============================] - 101s 403ms/step - loss: 0.2657 - accuracy: 0.8867 - val_loss: 0.4540 - val_accuracy: 0.8205\n",
      "Epoch 18/25\n",
      "250/250 [==============================] - 90s 359ms/step - loss: 0.2501 - accuracy: 0.8989 - val_loss: 0.5860 - val_accuracy: 0.7985\n",
      "Epoch 19/25\n",
      "250/250 [==============================] - 66s 262ms/step - loss: 0.2382 - accuracy: 0.9000 - val_loss: 0.4893 - val_accuracy: 0.8230\n",
      "Epoch 20/25\n",
      "250/250 [==============================] - 65s 261ms/step - loss: 0.2156 - accuracy: 0.9129 - val_loss: 0.4996 - val_accuracy: 0.8090\n",
      "Epoch 21/25\n",
      "250/250 [==============================] - 66s 264ms/step - loss: 0.2174 - accuracy: 0.9121 - val_loss: 0.4989 - val_accuracy: 0.8090\n",
      "Epoch 22/25\n",
      "250/250 [==============================] - 72s 290ms/step - loss: 0.1950 - accuracy: 0.9209 - val_loss: 0.5193 - val_accuracy: 0.8190\n",
      "Epoch 23/25\n",
      "250/250 [==============================] - 71s 284ms/step - loss: 0.1796 - accuracy: 0.9311 - val_loss: 0.4934 - val_accuracy: 0.8185\n",
      "Epoch 24/25\n",
      "250/250 [==============================] - 67s 267ms/step - loss: 0.1735 - accuracy: 0.9301 - val_loss: 0.7093 - val_accuracy: 0.7810\n",
      "Epoch 25/25\n",
      "250/250 [==============================] - 67s 269ms/step - loss: 0.1545 - accuracy: 0.9409 - val_loss: 0.5413 - val_accuracy: 0.8235\n"
     ]
    },
    {
     "data": {
      "text/plain": [
       "<keras.callbacks.History at 0x2ad255965c0>"
      ]
     },
     "execution_count": 19,
     "metadata": {},
     "output_type": "execute_result"
    }
   ],
   "source": [
    "cnn.fit(x=training_set, validation_data=test_set, epochs=25)"
   ]
  },
  {
   "cell_type": "code",
   "execution_count": 34,
   "metadata": {},
   "outputs": [
    {
     "name": "stdout",
     "output_type": "stream",
     "text": [
      "1/1 [==============================] - 0s 34ms/step\n",
      "cat\n"
     ]
    }
   ],
   "source": [
    "#making single prediction\n",
    "from keras import utils as i\n",
    "test_image= i.load_img('single_prediction\\cat_or_dog_2.jpg',target_size=(64,64))\n",
    "test_image=i.img_to_array(test_image)\n",
    "test_image=np.expand_dims(test_image, axis=0)\n",
    "result= cnn.predict(test_image)\n",
    "training_set.class_indices\n",
    "if result[0][0]>0.5:\n",
    "    prediction =\"dog\"\n",
    "else: prediction=\"cat\"\n",
    "\n",
    "print(prediction)"
   ]
  },
  {
   "cell_type": "code",
   "execution_count": 35,
   "metadata": {},
   "outputs": [
    {
     "name": "stdout",
     "output_type": "stream",
     "text": [
      "1/1 [==============================] - 0s 27ms/step\n",
      "dog\n"
     ]
    }
   ],
   "source": [
    "#making single prediction\n",
    "from keras import utils as i\n",
    "test_image= i.load_img('single_prediction\\cat_or_dog_1.jpg',target_size=(64,64))\n",
    "test_image=i.img_to_array(test_image)\n",
    "test_image=np.expand_dims(test_image, axis=0)\n",
    "result= cnn.predict(test_image)\n",
    "training_set.class_indices\n",
    "if result[0][0]>0.5:\n",
    "    prediction =\"dog\"\n",
    "else: prediction=\"cat\"\n",
    "\n",
    "print(prediction)"
   ]
  },
  {
   "cell_type": "code",
   "execution_count": null,
   "metadata": {},
   "outputs": [],
   "source": []
  }
 ],
 "metadata": {
  "kernelspec": {
   "display_name": "Python 3",
   "language": "python",
   "name": "python3"
  },
  "language_info": {
   "codemirror_mode": {
    "name": "ipython",
    "version": 3
   },
   "file_extension": ".py",
   "mimetype": "text/x-python",
   "name": "python",
   "nbconvert_exporter": "python",
   "pygments_lexer": "ipython3",
   "version": "3.10.7"
  },
  "orig_nbformat": 4,
  "vscode": {
   "interpreter": {
    "hash": "e8c2cc63056acfcfd25dd37939a56b742167bc05fe4481766b326ce324268a6b"
   }
  }
 },
 "nbformat": 4,
 "nbformat_minor": 2
}
