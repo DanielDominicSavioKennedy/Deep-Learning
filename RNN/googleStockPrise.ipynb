{
 "cells": [
  {
   "cell_type": "code",
   "execution_count": 1,
   "metadata": {},
   "outputs": [],
   "source": [
    "import numpy as np\n",
    "import pandas as pd\n",
    "import matplotlib.pyplot as plt"
   ]
  },
  {
   "cell_type": "code",
   "execution_count": 2,
   "metadata": {},
   "outputs": [
    {
     "data": {
      "text/html": [
       "<div>\n",
       "<style scoped>\n",
       "    .dataframe tbody tr th:only-of-type {\n",
       "        vertical-align: middle;\n",
       "    }\n",
       "\n",
       "    .dataframe tbody tr th {\n",
       "        vertical-align: top;\n",
       "    }\n",
       "\n",
       "    .dataframe thead th {\n",
       "        text-align: right;\n",
       "    }\n",
       "</style>\n",
       "<table border=\"1\" class=\"dataframe\">\n",
       "  <thead>\n",
       "    <tr style=\"text-align: right;\">\n",
       "      <th></th>\n",
       "      <th>Date</th>\n",
       "      <th>Open</th>\n",
       "      <th>High</th>\n",
       "      <th>Low</th>\n",
       "      <th>Close</th>\n",
       "      <th>Volume</th>\n",
       "    </tr>\n",
       "  </thead>\n",
       "  <tbody>\n",
       "    <tr>\n",
       "      <th>0</th>\n",
       "      <td>1/3/2012</td>\n",
       "      <td>325.25</td>\n",
       "      <td>332.83</td>\n",
       "      <td>324.97</td>\n",
       "      <td>663.59</td>\n",
       "      <td>7,380,500</td>\n",
       "    </tr>\n",
       "    <tr>\n",
       "      <th>1</th>\n",
       "      <td>1/4/2012</td>\n",
       "      <td>331.27</td>\n",
       "      <td>333.87</td>\n",
       "      <td>329.08</td>\n",
       "      <td>666.45</td>\n",
       "      <td>5,749,400</td>\n",
       "    </tr>\n",
       "    <tr>\n",
       "      <th>2</th>\n",
       "      <td>1/5/2012</td>\n",
       "      <td>329.83</td>\n",
       "      <td>330.75</td>\n",
       "      <td>326.89</td>\n",
       "      <td>657.21</td>\n",
       "      <td>6,590,300</td>\n",
       "    </tr>\n",
       "    <tr>\n",
       "      <th>3</th>\n",
       "      <td>1/6/2012</td>\n",
       "      <td>328.34</td>\n",
       "      <td>328.77</td>\n",
       "      <td>323.68</td>\n",
       "      <td>648.24</td>\n",
       "      <td>5,405,900</td>\n",
       "    </tr>\n",
       "    <tr>\n",
       "      <th>4</th>\n",
       "      <td>1/9/2012</td>\n",
       "      <td>322.04</td>\n",
       "      <td>322.29</td>\n",
       "      <td>309.46</td>\n",
       "      <td>620.76</td>\n",
       "      <td>11,688,800</td>\n",
       "    </tr>\n",
       "  </tbody>\n",
       "</table>\n",
       "</div>"
      ],
      "text/plain": [
       "       Date    Open    High     Low   Close      Volume\n",
       "0  1/3/2012  325.25  332.83  324.97  663.59   7,380,500\n",
       "1  1/4/2012  331.27  333.87  329.08  666.45   5,749,400\n",
       "2  1/5/2012  329.83  330.75  326.89  657.21   6,590,300\n",
       "3  1/6/2012  328.34  328.77  323.68  648.24   5,405,900\n",
       "4  1/9/2012  322.04  322.29  309.46  620.76  11,688,800"
      ]
     },
     "execution_count": 2,
     "metadata": {},
     "output_type": "execute_result"
    }
   ],
   "source": [
    "df=pd.read_csv(\"Google_Stock_Price_Train.csv\")\n",
    "df.head()"
   ]
  },
  {
   "cell_type": "code",
   "execution_count": 7,
   "metadata": {},
   "outputs": [
    {
     "name": "stdout",
     "output_type": "stream",
     "text": [
      "[[325.25]\n",
      " [331.27]\n",
      " [329.83]\n",
      " ...\n",
      " [793.7 ]\n",
      " [783.33]\n",
      " [782.75]]\n"
     ]
    }
   ],
   "source": [
    "training_set=df.iloc[:,1:2].values\n",
    "print(training_set)"
   ]
  },
  {
   "cell_type": "code",
   "execution_count": 9,
   "metadata": {},
   "outputs": [
    {
     "name": "stdout",
     "output_type": "stream",
     "text": [
      "[[0.08581368]\n",
      " [0.09701243]\n",
      " [0.09433366]\n",
      " ...\n",
      " [0.95725128]\n",
      " [0.93796041]\n",
      " [0.93688146]]\n"
     ]
    }
   ],
   "source": [
    "#featire scaling\n",
    "from sklearn.preprocessing import MinMaxScaler\n",
    "sc=MinMaxScaler(feature_range=(0,1))\n",
    "training_set_scaled =sc.fit_transform(training_set)\n",
    "print(training_set_scaled)"
   ]
  },
  {
   "cell_type": "code",
   "execution_count": 15,
   "metadata": {},
   "outputs": [
    {
     "name": "stdout",
     "output_type": "stream",
     "text": [
      "[[0.08581368 0.09701243 0.09433366 ... 0.07846566 0.08034452 0.08497656]\n",
      " [0.09701243 0.09433366 0.09156187 ... 0.08034452 0.08497656 0.08627874]\n",
      " [0.09433366 0.09156187 0.07984225 ... 0.08497656 0.08627874 0.08471612]\n",
      " ...\n",
      " [0.92106928 0.92438053 0.93048218 ... 0.95475854 0.95204256 0.95163331]\n",
      " [0.92438053 0.93048218 0.9299055  ... 0.95204256 0.95163331 0.95725128]\n",
      " [0.93048218 0.9299055  0.93113327 ... 0.95163331 0.95725128 0.93796041]]\n",
      "\n",
      "[0.08627874 0.08471612 0.07454052 ... 0.95725128 0.93796041 0.93688146]\n"
     ]
    }
   ],
   "source": [
    "#Creating a data structure with 60 timesteps in 1 output\n",
    "X_train=[]\n",
    "y_train=[]\n",
    "for i in range(60,1258):\n",
    "    X_train.append(training_set_scaled[i-60:i,0])\n",
    "    y_train.append(training_set_scaled[i,0])\n",
    "X_train,y_train=np.array(X_train),np.array(y_train)\n",
    "print(X_train)\n",
    "print()\n",
    "print(y_train)"
   ]
  },
  {
   "cell_type": "code",
   "execution_count": 19,
   "metadata": {},
   "outputs": [
    {
     "name": "stdout",
     "output_type": "stream",
     "text": [
      "[[[0.08581368]\n",
      "  [0.09701243]\n",
      "  [0.09433366]\n",
      "  ...\n",
      "  [0.07846566]\n",
      "  [0.08034452]\n",
      "  [0.08497656]]\n",
      "\n",
      " [[0.09701243]\n",
      "  [0.09433366]\n",
      "  [0.09156187]\n",
      "  ...\n",
      "  [0.08034452]\n",
      "  [0.08497656]\n",
      "  [0.08627874]]\n",
      "\n",
      " [[0.09433366]\n",
      "  [0.09156187]\n",
      "  [0.07984225]\n",
      "  ...\n",
      "  [0.08497656]\n",
      "  [0.08627874]\n",
      "  [0.08471612]]\n",
      "\n",
      " ...\n",
      "\n",
      " [[0.92106928]\n",
      "  [0.92438053]\n",
      "  [0.93048218]\n",
      "  ...\n",
      "  [0.95475854]\n",
      "  [0.95204256]\n",
      "  [0.95163331]]\n",
      "\n",
      " [[0.92438053]\n",
      "  [0.93048218]\n",
      "  [0.9299055 ]\n",
      "  ...\n",
      "  [0.95204256]\n",
      "  [0.95163331]\n",
      "  [0.95725128]]\n",
      "\n",
      " [[0.93048218]\n",
      "  [0.9299055 ]\n",
      "  [0.93113327]\n",
      "  ...\n",
      "  [0.95163331]\n",
      "  [0.95725128]\n",
      "  [0.93796041]]]\n"
     ]
    }
   ],
   "source": [
    "#Reshaping\n",
    "X_train=np.reshape(X_train, (X_train.shape[0],X_train.shape[1],1))\n",
    "print(X_train)"
   ]
  },
  {
   "cell_type": "code",
   "execution_count": 21,
   "metadata": {},
   "outputs": [],
   "source": [
    "#Building RNN\n",
    "from keras.models import Sequential\n",
    "from keras.layers import Dense,LSTM,Dropout"
   ]
  },
  {
   "cell_type": "code",
   "execution_count": 22,
   "metadata": {},
   "outputs": [],
   "source": [
    "#Initialising the RNN\n",
    "regressor =Sequential()\n",
    "\n",
    "#Adding the first LSTM layer and some Dropout regularisation\n",
    "regressor.add(LSTM(units=50, return_sequences=True,input_shape=(X_train.shape[1],1)))\n",
    "regressor.add(Dropout(0.2))"
   ]
  },
  {
   "cell_type": "code",
   "execution_count": 23,
   "metadata": {},
   "outputs": [],
   "source": [
    "#Adding 2nd layer with some Dropout regularisation\n",
    "regressor.add(LSTM(units=50, return_sequences=True))\n",
    "regressor.add(Dropout(0.2))\n",
    "\n",
    "#Adding 3rd layer with some Dropout regularisation\n",
    "regressor.add(LSTM(units=50, return_sequences=True))\n",
    "regressor.add(Dropout(0.2))\n",
    "\n",
    "#Adding 4th layer with some Dropout regularisation\n",
    "regressor.add(LSTM(units=50)) #return_sequences=False\n",
    "regressor.add(Dropout(0.2))"
   ]
  },
  {
   "cell_type": "code",
   "execution_count": 24,
   "metadata": {},
   "outputs": [],
   "source": [
    "#Adding the output layer\n",
    "regressor.add(Dense(units=1))"
   ]
  },
  {
   "cell_type": "code",
   "execution_count": 25,
   "metadata": {},
   "outputs": [],
   "source": [
    "#Compiling our RNN\n",
    "regressor.compile(optimizer='adam',loss='mean_squared_error')\n",
    "#Or optimizer='remprop'"
   ]
  },
  {
   "cell_type": "code",
   "execution_count": 26,
   "metadata": {},
   "outputs": [
    {
     "name": "stdout",
     "output_type": "stream",
     "text": [
      "Epoch 1/100\n",
      "38/38 [==============================] - 12s 85ms/step - loss: 0.0340\n",
      "Epoch 2/100\n",
      "38/38 [==============================] - 3s 80ms/step - loss: 0.0064\n",
      "Epoch 3/100\n",
      "38/38 [==============================] - 3s 75ms/step - loss: 0.0054\n",
      "Epoch 4/100\n",
      "38/38 [==============================] - 3s 76ms/step - loss: 0.0057\n",
      "Epoch 5/100\n",
      "38/38 [==============================] - 3s 77ms/step - loss: 0.0053\n",
      "Epoch 6/100\n",
      "38/38 [==============================] - 3s 76ms/step - loss: 0.0051\n",
      "Epoch 7/100\n",
      "38/38 [==============================] - 3s 77ms/step - loss: 0.0047\n",
      "Epoch 8/100\n",
      "38/38 [==============================] - 3s 84ms/step - loss: 0.0045\n",
      "Epoch 9/100\n",
      "38/38 [==============================] - 3s 75ms/step - loss: 0.0045\n",
      "Epoch 10/100\n",
      "38/38 [==============================] - 3s 76ms/step - loss: 0.0038\n",
      "Epoch 11/100\n",
      "38/38 [==============================] - 3s 76ms/step - loss: 0.0039\n",
      "Epoch 12/100\n",
      "38/38 [==============================] - 3s 82ms/step - loss: 0.0043\n",
      "Epoch 13/100\n",
      "38/38 [==============================] - 3s 80ms/step - loss: 0.0039\n",
      "Epoch 14/100\n",
      "38/38 [==============================] - 3s 76ms/step - loss: 0.0038\n",
      "Epoch 15/100\n",
      "38/38 [==============================] - 3s 76ms/step - loss: 0.0033\n",
      "Epoch 16/100\n",
      "38/38 [==============================] - 3s 75ms/step - loss: 0.0037\n",
      "Epoch 17/100\n",
      "38/38 [==============================] - 3s 76ms/step - loss: 0.0036\n",
      "Epoch 18/100\n",
      "38/38 [==============================] - 3s 75ms/step - loss: 0.0037\n",
      "Epoch 19/100\n",
      "38/38 [==============================] - 3s 76ms/step - loss: 0.0035\n",
      "Epoch 20/100\n",
      "38/38 [==============================] - 3s 75ms/step - loss: 0.0036\n",
      "Epoch 21/100\n",
      "38/38 [==============================] - 3s 77ms/step - loss: 0.0031\n",
      "Epoch 22/100\n",
      "38/38 [==============================] - 3s 79ms/step - loss: 0.0037\n",
      "Epoch 23/100\n",
      "38/38 [==============================] - 3s 76ms/step - loss: 0.0037\n",
      "Epoch 24/100\n",
      "38/38 [==============================] - 3s 80ms/step - loss: 0.0033\n",
      "Epoch 25/100\n",
      "38/38 [==============================] - 3s 77ms/step - loss: 0.0029\n",
      "Epoch 26/100\n",
      "38/38 [==============================] - 3s 80ms/step - loss: 0.0034\n",
      "Epoch 27/100\n",
      "38/38 [==============================] - 3s 86ms/step - loss: 0.0033\n",
      "Epoch 28/100\n",
      "38/38 [==============================] - 4s 108ms/step - loss: 0.0031\n",
      "Epoch 29/100\n",
      "38/38 [==============================] - 3s 81ms/step - loss: 0.0029\n",
      "Epoch 30/100\n",
      "38/38 [==============================] - 3s 84ms/step - loss: 0.0031\n",
      "Epoch 31/100\n",
      "38/38 [==============================] - 3s 83ms/step - loss: 0.0029\n",
      "Epoch 32/100\n",
      "38/38 [==============================] - 3s 81ms/step - loss: 0.0032\n",
      "Epoch 33/100\n",
      "38/38 [==============================] - 3s 83ms/step - loss: 0.0027\n",
      "Epoch 34/100\n",
      "38/38 [==============================] - 3s 85ms/step - loss: 0.0029\n",
      "Epoch 35/100\n",
      "38/38 [==============================] - 3s 83ms/step - loss: 0.0026\n",
      "Epoch 36/100\n",
      "38/38 [==============================] - 3s 85ms/step - loss: 0.0026\n",
      "Epoch 37/100\n",
      "38/38 [==============================] - 3s 83ms/step - loss: 0.0025\n",
      "Epoch 38/100\n",
      "38/38 [==============================] - 3s 83ms/step - loss: 0.0029\n",
      "Epoch 39/100\n",
      "38/38 [==============================] - 3s 85ms/step - loss: 0.0025\n",
      "Epoch 40/100\n",
      "38/38 [==============================] - 3s 85ms/step - loss: 0.0027\n",
      "Epoch 41/100\n",
      "38/38 [==============================] - 3s 86ms/step - loss: 0.0026\n",
      "Epoch 42/100\n",
      "38/38 [==============================] - 3s 84ms/step - loss: 0.0025\n",
      "Epoch 43/100\n",
      "38/38 [==============================] - 3s 83ms/step - loss: 0.0026\n",
      "Epoch 44/100\n",
      "38/38 [==============================] - 3s 84ms/step - loss: 0.0027\n",
      "Epoch 45/100\n",
      "38/38 [==============================] - 3s 83ms/step - loss: 0.0024\n",
      "Epoch 46/100\n",
      "38/38 [==============================] - 3s 83ms/step - loss: 0.0022\n",
      "Epoch 47/100\n",
      "38/38 [==============================] - 3s 84ms/step - loss: 0.0024\n",
      "Epoch 48/100\n",
      "38/38 [==============================] - 3s 79ms/step - loss: 0.0025\n",
      "Epoch 49/100\n",
      "38/38 [==============================] - 3s 77ms/step - loss: 0.0025\n",
      "Epoch 50/100\n",
      "38/38 [==============================] - 3s 74ms/step - loss: 0.0023\n",
      "Epoch 51/100\n",
      "38/38 [==============================] - 3s 76ms/step - loss: 0.0024\n",
      "Epoch 52/100\n",
      "38/38 [==============================] - 3s 75ms/step - loss: 0.0022\n",
      "Epoch 53/100\n",
      "38/38 [==============================] - 3s 75ms/step - loss: 0.0022\n",
      "Epoch 54/100\n",
      "38/38 [==============================] - 3s 76ms/step - loss: 0.0020\n",
      "Epoch 55/100\n",
      "38/38 [==============================] - 3s 76ms/step - loss: 0.0023\n",
      "Epoch 56/100\n",
      "38/38 [==============================] - 3s 75ms/step - loss: 0.0022\n",
      "Epoch 57/100\n",
      "38/38 [==============================] - 3s 76ms/step - loss: 0.0022\n",
      "Epoch 58/100\n",
      "38/38 [==============================] - 3s 77ms/step - loss: 0.0020\n",
      "Epoch 59/100\n",
      "38/38 [==============================] - 3s 74ms/step - loss: 0.0020\n",
      "Epoch 60/100\n",
      "38/38 [==============================] - 3s 75ms/step - loss: 0.0019\n",
      "Epoch 61/100\n",
      "38/38 [==============================] - 3s 76ms/step - loss: 0.0021\n",
      "Epoch 62/100\n",
      "38/38 [==============================] - 3s 74ms/step - loss: 0.0021\n",
      "Epoch 63/100\n",
      "38/38 [==============================] - 3s 76ms/step - loss: 0.0021\n",
      "Epoch 64/100\n",
      "38/38 [==============================] - 3s 76ms/step - loss: 0.0023\n",
      "Epoch 65/100\n",
      "38/38 [==============================] - 3s 76ms/step - loss: 0.0021\n",
      "Epoch 66/100\n",
      "38/38 [==============================] - 3s 76ms/step - loss: 0.0019\n",
      "Epoch 67/100\n",
      "38/38 [==============================] - 3s 76ms/step - loss: 0.0019\n",
      "Epoch 68/100\n",
      "38/38 [==============================] - 3s 75ms/step - loss: 0.0019\n",
      "Epoch 69/100\n",
      "38/38 [==============================] - 3s 76ms/step - loss: 0.0018\n",
      "Epoch 70/100\n",
      "38/38 [==============================] - 3s 76ms/step - loss: 0.0019\n",
      "Epoch 71/100\n",
      "38/38 [==============================] - 3s 74ms/step - loss: 0.0018\n",
      "Epoch 72/100\n",
      "38/38 [==============================] - 3s 76ms/step - loss: 0.0019\n",
      "Epoch 73/100\n",
      "38/38 [==============================] - 3s 76ms/step - loss: 0.0019\n",
      "Epoch 74/100\n",
      "38/38 [==============================] - 3s 75ms/step - loss: 0.0018\n",
      "Epoch 75/100\n",
      "38/38 [==============================] - 3s 81ms/step - loss: 0.0019\n",
      "Epoch 76/100\n",
      "38/38 [==============================] - 3s 91ms/step - loss: 0.0021\n",
      "Epoch 77/100\n",
      "38/38 [==============================] - 3s 89ms/step - loss: 0.0016\n",
      "Epoch 78/100\n",
      "38/38 [==============================] - 3s 81ms/step - loss: 0.0017\n",
      "Epoch 79/100\n",
      "38/38 [==============================] - 3s 80ms/step - loss: 0.0015\n",
      "Epoch 80/100\n",
      "38/38 [==============================] - 3s 81ms/step - loss: 0.0017\n",
      "Epoch 81/100\n",
      "38/38 [==============================] - 3s 81ms/step - loss: 0.0017\n",
      "Epoch 82/100\n",
      "38/38 [==============================] - 3s 79ms/step - loss: 0.0016\n",
      "Epoch 83/100\n",
      "38/38 [==============================] - 3s 79ms/step - loss: 0.0015\n",
      "Epoch 84/100\n",
      "38/38 [==============================] - 3s 79ms/step - loss: 0.0016\n",
      "Epoch 85/100\n",
      "38/38 [==============================] - 3s 80ms/step - loss: 0.0017\n",
      "Epoch 86/100\n",
      "38/38 [==============================] - 3s 78ms/step - loss: 0.0015\n",
      "Epoch 87/100\n",
      "38/38 [==============================] - 3s 79ms/step - loss: 0.0016\n",
      "Epoch 88/100\n",
      "38/38 [==============================] - 3s 80ms/step - loss: 0.0018\n",
      "Epoch 89/100\n",
      "38/38 [==============================] - 3s 78ms/step - loss: 0.0015\n",
      "Epoch 90/100\n",
      "38/38 [==============================] - 3s 79ms/step - loss: 0.0015\n",
      "Epoch 91/100\n",
      "38/38 [==============================] - 3s 88ms/step - loss: 0.0015\n",
      "Epoch 92/100\n",
      "38/38 [==============================] - 3s 85ms/step - loss: 0.0015\n",
      "Epoch 93/100\n",
      "38/38 [==============================] - 3s 79ms/step - loss: 0.0015\n",
      "Epoch 94/100\n",
      "38/38 [==============================] - 3s 78ms/step - loss: 0.0015\n",
      "Epoch 95/100\n",
      "38/38 [==============================] - 3s 79ms/step - loss: 0.0016\n",
      "Epoch 96/100\n",
      "38/38 [==============================] - 3s 80ms/step - loss: 0.0015\n",
      "Epoch 97/100\n",
      "38/38 [==============================] - 3s 79ms/step - loss: 0.0015\n",
      "Epoch 98/100\n",
      "38/38 [==============================] - 3s 80ms/step - loss: 0.0016\n",
      "Epoch 99/100\n",
      "38/38 [==============================] - 3s 79ms/step - loss: 0.0015\n",
      "Epoch 100/100\n",
      "38/38 [==============================] - 3s 80ms/step - loss: 0.0016\n"
     ]
    },
    {
     "data": {
      "text/plain": [
       "<keras.callbacks.History at 0x20ba6f2b5b0>"
      ]
     },
     "execution_count": 26,
     "metadata": {},
     "output_type": "execute_result"
    }
   ],
   "source": [
    "#Fitting the RNN\n",
    "regressor.fit(X_train,y_train,epochs=100,batch_size=32)"
   ]
  },
  {
   "cell_type": "code",
   "execution_count": 27,
   "metadata": {},
   "outputs": [],
   "source": [
    "#Get real stock price of 2017\n",
    "dataset_test=pd.read_csv('Google_Stock_Price_Test.csv')\n",
    "real_stock_price=dataset_test.iloc[:,1:2].values\n"
   ]
  },
  {
   "cell_type": "code",
   "execution_count": 28,
   "metadata": {},
   "outputs": [
    {
     "name": "stdout",
     "output_type": "stream",
     "text": [
      "[[778.81]\n",
      " [788.36]\n",
      " [786.08]\n",
      " [795.26]\n",
      " [806.4 ]\n",
      " [807.86]\n",
      " [805.  ]\n",
      " [807.14]\n",
      " [807.48]\n",
      " [807.08]\n",
      " [805.81]\n",
      " [805.12]\n",
      " [806.91]\n",
      " [807.25]\n",
      " [822.3 ]\n",
      " [829.62]\n",
      " [837.81]\n",
      " [834.71]\n",
      " [814.66]\n",
      " [796.86]]\n"
     ]
    }
   ],
   "source": [
    "print(real_stock_price)"
   ]
  },
  {
   "cell_type": "code",
   "execution_count": 29,
   "metadata": {},
   "outputs": [
    {
     "name": "stdout",
     "output_type": "stream",
     "text": [
      "0     325.25\n",
      "1     331.27\n",
      "2     329.83\n",
      "3     328.34\n",
      "4     322.04\n",
      "       ...  \n",
      "15    829.62\n",
      "16    837.81\n",
      "17    834.71\n",
      "18    814.66\n",
      "19    796.86\n",
      "Name: Open, Length: 1278, dtype: float64\n"
     ]
    }
   ],
   "source": [
    "#Get the predicted stock price of 2017\n",
    "dataset_total= pd.concat((df[\"Open\"],dataset_test['Open']),axis=0)\n",
    "print(dataset_total)"
   ]
  },
  {
   "cell_type": "code",
   "execution_count": 33,
   "metadata": {},
   "outputs": [
    {
     "name": "stdout",
     "output_type": "stream",
     "text": [
      "[[0.9299055 ]\n",
      " [0.93113327]\n",
      " [0.92750577]\n",
      " [0.94415507]\n",
      " [0.93876032]\n",
      " [0.93403527]\n",
      " [0.93483518]\n",
      " [0.9313937 ]\n",
      " [0.94636878]\n",
      " [0.96569685]\n",
      " [0.97510976]\n",
      " [0.95966962]\n",
      " [0.97808617]\n",
      " [1.        ]\n",
      " [0.98076494]\n",
      " [0.97083116]\n",
      " [0.98450406]\n",
      " [0.96054394]\n",
      " [0.9371419 ]\n",
      " [0.92841729]\n",
      " [0.90804747]\n",
      " [0.8771858 ]\n",
      " [0.92153434]\n",
      " [0.93809063]\n",
      " [0.93165414]\n",
      " [0.95254483]\n",
      " [0.88812412]\n",
      " [0.88637547]\n",
      " [0.87032145]\n",
      " [0.88563137]\n",
      " [0.90743359]\n",
      " [0.91571173]\n",
      " [0.89941588]\n",
      " [0.91805566]\n",
      " [0.9089404 ]\n",
      " [0.9024853 ]\n",
      " [0.89456061]\n",
      " [0.91600938]\n",
      " [0.9132934 ]\n",
      " [0.88979835]\n",
      " [0.86589404]\n",
      " [0.89030062]\n",
      " [0.90335962]\n",
      " [0.89642086]\n",
      " [0.91777662]\n",
      " [0.93176576]\n",
      " [0.94114145]\n",
      " [0.95762334]\n",
      " [0.96413424]\n",
      " [0.96402262]\n",
      " [0.96971501]\n",
      " [0.95077759]\n",
      " [0.96294367]\n",
      " [0.96123223]\n",
      " [0.95475854]\n",
      " [0.95204256]\n",
      " [0.95163331]\n",
      " [0.95725128]\n",
      " [0.93796041]\n",
      " [0.93688146]\n",
      " [0.92955205]\n",
      " [0.94731751]\n",
      " [0.94307612]\n",
      " [0.96015329]\n",
      " [0.98087655]\n",
      " [0.98359253]\n",
      " [0.97827219]\n",
      " [0.98225314]\n",
      " [0.98288563]\n",
      " [0.98214153]\n",
      " [0.979779  ]\n",
      " [0.97849542]\n",
      " [0.98182528]\n",
      " [0.98245777]\n",
      " [1.01045465]\n",
      " [1.02407173]\n",
      " [1.03930724]\n",
      " [1.03354044]\n",
      " [0.99624228]\n",
      " [0.9631297 ]]\n"
     ]
    },
    {
     "name": "stderr",
     "output_type": "stream",
     "text": [
      "C:\\Users\\SAVIO\\AppData\\Local\\Temp\\ipykernel_15936\\1870358401.py:1: FutureWarning: The behavior of `series[i:j]` with an integer-dtype index is deprecated. In a future version, this will be treated as *label-based* indexing, consistent with e.g. `series[i]` lookups. To retain the old behavior, use `series.iloc[i:j]`. To get the future behavior, use `series.loc[i:j]`.\n",
      "  inputs=dataset_total[len(dataset_total)-len(dataset_test)-60:].values\n"
     ]
    }
   ],
   "source": [
    "inputs=dataset_total[len(dataset_total)-len(dataset_test)-60:].values\n",
    "inputs =inputs.reshape(-1,1)\n",
    "inputs =sc.transform(inputs)\n",
    "print(inputs)"
   ]
  },
  {
   "cell_type": "code",
   "execution_count": 35,
   "metadata": {},
   "outputs": [
    {
     "name": "stdout",
     "output_type": "stream",
     "text": [
      "[[[0.9299055 ]\n",
      "  [0.93113327]\n",
      "  [0.92750577]\n",
      "  ...\n",
      "  [0.95725128]\n",
      "  [0.93796041]\n",
      "  [0.93688146]]\n",
      "\n",
      " [[0.93113327]\n",
      "  [0.92750577]\n",
      "  [0.94415507]\n",
      "  ...\n",
      "  [0.93796041]\n",
      "  [0.93688146]\n",
      "  [0.92955205]]\n",
      "\n",
      " [[0.92750577]\n",
      "  [0.94415507]\n",
      "  [0.93876032]\n",
      "  ...\n",
      "  [0.93688146]\n",
      "  [0.92955205]\n",
      "  [0.94731751]]\n",
      "\n",
      " ...\n",
      "\n",
      " [[0.96054394]\n",
      "  [0.9371419 ]\n",
      "  [0.92841729]\n",
      "  ...\n",
      "  [1.01045465]\n",
      "  [1.02407173]\n",
      "  [1.03930724]]\n",
      "\n",
      " [[0.9371419 ]\n",
      "  [0.92841729]\n",
      "  [0.90804747]\n",
      "  ...\n",
      "  [1.02407173]\n",
      "  [1.03930724]\n",
      "  [1.03354044]]\n",
      "\n",
      " [[0.92841729]\n",
      "  [0.90804747]\n",
      "  [0.8771858 ]\n",
      "  ...\n",
      "  [1.03930724]\n",
      "  [1.03354044]\n",
      "  [0.99624228]]]\n"
     ]
    }
   ],
   "source": [
    "X_test=[]\n",
    "for i in range(60,80):\n",
    "    X_test.append(inputs[i-60:i,0])\n",
    "X_test=np.array(X_test)\n",
    "X_test=np.reshape(X_test, (X_test.shape[0],X_test.shape[1],1))\n",
    "print(X_test)"
   ]
  },
  {
   "cell_type": "code",
   "execution_count": 36,
   "metadata": {},
   "outputs": [
    {
     "name": "stdout",
     "output_type": "stream",
     "text": [
      "1/1 [==============================] - 2s 2s/step\n",
      "[[782.8765 ]\n",
      " [780.0936 ]\n",
      " [779.68823]\n",
      " [780.88214]\n",
      " [784.1578 ]\n",
      " [789.88873]\n",
      " [795.56067]\n",
      " [798.3701 ]\n",
      " [798.78796]\n",
      " [798.1042 ]\n",
      " [797.3449 ]\n",
      " [796.8582 ]\n",
      " [796.73083]\n",
      " [797.33594]\n",
      " [798.4022 ]\n",
      " [802.4648 ]\n",
      " [808.96533]\n",
      " [816.33716]\n",
      " [820.90656]\n",
      " [817.94086]]\n"
     ]
    }
   ],
   "source": [
    "predicted_stock_price=regressor.predict(X_test)\n",
    "predicted_stock_price=sc.inverse_transform(predicted_stock_price)\n",
    "print(predicted_stock_price)"
   ]
  },
  {
   "cell_type": "code",
   "execution_count": 39,
   "metadata": {},
   "outputs": [
    {
     "data": {
      "image/png": "[encoded data removed]",
      "text/plain": [
       "<Figure size 640x480 with 1 Axes>"
      ]
     },
     "metadata": {},
     "output_type": "display_data"
    }
   ],
   "source": [
    "#Visualisation\n",
    "plt.plot(real_stock_price, color='red', label='Real Google Stock Price')\n",
    "plt.plot(predicted_stock_price,color='blue',label=\"Predicted Google Stock Price\")\n",
    "plt.title(\"Google Sick Price\")\n",
    "plt.xlabel('Time')\n",
    "plt.ylabel(\"Google Stock Price\")\n",
    "plt.legend()\n",
    "plt.show()"
   ]
  },
  {
   "cell_type": "code",
   "execution_count": null,
   "metadata": {},
   "outputs": [],
   "source": []
  }
 ],
 "metadata": {
  "kernelspec": {
   "display_name": "Python 3",
   "language": "python",
   "name": "python3"
  },
  "language_info": {
   "codemirror_mode": {
    "name": "ipython",
    "version": 3
   },
   "file_extension": ".py",
   "mimetype": "text/x-python",
   "name": "python",
   "nbconvert_exporter": "python",
   "pygments_lexer": "ipython3",
   "version": "3.10.7"
  },
  "orig_nbformat": 4,
  "vscode": {
   "interpreter": {
    "hash": "e8c2cc63056acfcfd25dd37939a56b742167bc05fe4481766b326ce324268a6b"
   }
  }
 },
 "nbformat": 4,
 "nbformat_minor": 2
}
